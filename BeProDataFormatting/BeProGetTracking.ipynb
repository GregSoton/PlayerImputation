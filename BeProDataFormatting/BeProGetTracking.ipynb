{
 "cells": [
  {
   "cell_type": "markdown",
   "id": "575d66fc-109f-4086-a4ac-9168175c1ecc",
   "metadata": {},
   "source": [
    "# Get Tracking Data as EPTS Format and Convert\n",
    "Uses load_epts_into pandas python file, used from the kloppy package\n",
    "Outputs final tracking dataframe with player velocities included"
   ]
  },
  {
   "cell_type": "code",
   "execution_count": null,
   "id": "deddaa1b-755d-4104-b1c8-db867d932330",
   "metadata": {},
   "outputs": [],
   "source": [
    "import os\n",
    "os.chdir('dir')\n",
    "#Replace this with current directory"
   ]
  },
  {
   "cell_type": "code",
   "execution_count": null,
   "id": "f9a1bd18-7a65-48b1-9ea7-60365246773d",
   "metadata": {},
   "outputs": [],
   "source": [
    "import pandas as pd\n",
    "import getTracking.TrackingFormatting as TrackingFormatting\n",
    "import os"
   ]
  },
  {
   "cell_type": "code",
   "execution_count": null,
   "id": "56b8c3f7-9d84-4677-8f1b-01ad35c29df1",
   "metadata": {},
   "outputs": [],
   "source": [
    "first_half_data = 'fh_data'\n",
    "second_half_data = 'sh_data' #Change these to BePro data"
   ]
  },
  {
   "cell_type": "markdown",
   "id": "ebc1e1f8-ed3d-4e28-ba21-2f82c7deb97d",
   "metadata": {},
   "source": [
    "### Load for first and second half of game"
   ]
  },
  {
   "cell_type": "code",
   "execution_count": null,
   "id": "e79385d7-2063-4094-958d-de030151a9e6",
   "metadata": {},
   "outputs": [],
   "source": [
    "FH_tracking_df, home_df, away_df = TrackingFormatting.tracking_files_to_df(first_half_data[0],first_half_data[1])"
   ]
  },
  {
   "cell_type": "code",
   "execution_count": null,
   "id": "7a2b3083-95b0-4fb2-bf52-555c5fe68468",
   "metadata": {},
   "outputs": [],
   "source": [
    "SH_tracking_df, _, _ = TrackingFormatting.tracking_files_to_df(second_half_data[0],second_half_data[1])"
   ]
  },
  {
   "cell_type": "markdown",
   "id": "2446b311-654c-4735-aae1-cc70142d3e36",
   "metadata": {},
   "source": [
    "### Combine first and second half tracking data"
   ]
  },
  {
   "cell_type": "code",
   "execution_count": null,
   "id": "803f3bf1-d7c6-4826-b208-caa7cf996fc9",
   "metadata": {},
   "outputs": [],
   "source": [
    "full_tracking = TrackingFormatting.combine_FH_SH_tracking(FH_tracking_df,SH_tracking_df)"
   ]
  },
  {
   "cell_type": "markdown",
   "id": "b0a8a2b9-22ec-479a-86a1-b679e52abe79",
   "metadata": {},
   "source": [
    "### Get Tracking Velocities"
   ]
  },
  {
   "cell_type": "code",
   "execution_count": null,
   "id": "cad3aaad-3009-4ac0-b543-788f0bddd1fb",
   "metadata": {},
   "outputs": [],
   "source": [
    "full_tracking = TrackingFormatting.calc_player_velocities(full_tracking, home_df, away_df)"
   ]
  },
  {
   "cell_type": "markdown",
   "id": "8bbcb7cf-b07a-4d03-a856-99f9b4380144",
   "metadata": {},
   "source": [
    "### Store as csv files"
   ]
  },
  {
   "cell_type": "code",
   "execution_count": null,
   "id": "b389893d-5586-46cd-8299-1c13a114cb25",
   "metadata": {},
   "outputs": [],
   "source": [
    "#full_tracking.to_csv('data/tracking/game1/full_tracking_df.csv', index=False)\n",
    "#home_df.to_csv('data/tracking/game1/home_players.csv',index=False)\n",
    "#away_df.to_csv('data/tracking/game1/away_players.csv',index=False)"
   ]
  },
  {
   "cell_type": "markdown",
   "id": "bf33d3cf-57fa-4841-9ce1-3f9a31285bd7",
   "metadata": {},
   "source": [
    "### Function which does everything in one\n",
    "\n",
    "Use this when iterating over tracking files"
   ]
  },
  {
   "cell_type": "code",
   "execution_count": null,
   "id": "0d9ea9cb-c856-448f-9590-84a36744b6d0",
   "metadata": {},
   "outputs": [],
   "source": [
    "def get_tracking_files(first_half_data, second_half_data, game_num):\n",
    "    FH_tracking_df, home_df, away_df = TrackingFormatting.tracking_files_to_df(first_half_data[0],first_half_data[1])\n",
    "    SH_tracking_df, _, _ = TrackingFormatting.tracking_files_to_df(second_half_data[0],second_half_data[1])\n",
    "    full_tracking = TrackingFormatting.combine_FH_SH_tracking(FH_tracking_df,SH_tracking_df)\n",
    "    full_tracking = TrackingFormatting.calc_player_velocities(full_tracking, home_df, away_df)\n",
    "    \n",
    "    #Send to CSVs\n",
    "    full_tracking.to_csv('data/tracking/{game_num}/full_tracking_df.csv', index=False)\n",
    "    home_df.to_csv('data/tracking/{game_num}/home_players.csv',index=False)\n",
    "    away_df.to_csv('data/tracking/{game_num}/away_players.csv',index=False)\n",
    "    \n",
    "def get_suwon_tracking_files(first_half_data, second_half_data, game_num):\n",
    "    FH_tracking_df, home_df, away_df = TrackingFormatting.tracking_files_to_df(first_half_data[0],first_half_data[1])\n",
    "    SH_tracking_df, _, _ = TrackingFormatting.tracking_files_to_df(second_half_data[0],second_half_data[1])\n",
    "    full_tracking = TrackingFormatting.combine_FH_SH_tracking(FH_tracking_df,SH_tracking_df)\n",
    "    full_tracking = TrackingFormatting.calc_player_velocities(full_tracking, home_df, away_df)\n",
    "    \n",
    "    #Send to CSVs\n",
    "    full_tracking.to_csv('data/Suwon_FC/tracking/'+game_num+'/full_tracking_df.csv', index=False)\n",
    "    home_df.to_csv('data/Suwon_FC/tracking/'+game_num+'/home_players.csv',index=False)\n",
    "    away_df.to_csv('data/Suwon_FC/tracking/'+game_num+'/away_players.csv',index=False)"
   ]
  },
  {
   "cell_type": "code",
   "execution_count": null,
   "id": "d68dddab-36c8-4bb8-8082-55940597f6dd",
   "metadata": {},
   "outputs": [],
   "source": [
    "#GET LIST OF EPTS FILES FOR THE SUWON TRACKING GAMES\n",
    "def get_list_of_EPTS_files(num_games):\n",
    "    list_of_games = []\n",
    "    for i in range(1,num_games+1,1):\n",
    "        td = os.listdir('dir'+str(i))\n",
    "        list_of_games.append([['data/Suwon_FC/tracking/game'+str(i)+'/'+t for t in td[0:2]],['data/Suwon_FC/tracking/game'+str(i)+'/'+t for t in td[2:4]]])\n",
    "    return list_of_games\n",
    "\n",
    "EPTS_list = get_list_of_EPTS_files(35)"
   ]
  },
  {
   "cell_type": "markdown",
   "id": "f9718679-dc0b-4f0d-9be6-53d0d0e06389",
   "metadata": {},
   "source": [
    "### Get tracking files for each suwon game"
   ]
  },
  {
   "cell_type": "code",
   "execution_count": null,
   "id": "f009e1eb-42a0-4056-89b2-9eab969c7158",
   "metadata": {},
   "outputs": [],
   "source": [
    "#for i in range(35,36):\n",
    "#    get_suwon_tracking_files(EPTS_list[i-1][0], EPTS_list[i-1][1], 'game'+str(i))"
   ]
  },
  {
   "cell_type": "code",
   "execution_count": null,
   "id": "e7554404-27dd-4528-8fb9-9ba95eaf97a2",
   "metadata": {},
   "outputs": [],
   "source": []
  }
 ],
 "metadata": {
  "kernelspec": {
   "display_name": "Python 3",
   "language": "python",
   "name": "python3"
  },
  "language_info": {
   "codemirror_mode": {
    "name": "ipython",
    "version": 3
   },
   "file_extension": ".py",
   "mimetype": "text/x-python",
   "name": "python",
   "nbconvert_exporter": "python",
   "pygments_lexer": "ipython3",
   "version": "3.8.8"
  }
 },
 "nbformat": 4,
 "nbformat_minor": 5
}
