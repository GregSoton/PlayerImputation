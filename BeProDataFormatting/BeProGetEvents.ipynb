{
 "cells": [
  {
   "cell_type": "markdown",
   "id": "e4550058-d068-4cc7-8ce3-0868284f4a98",
   "metadata": {},
   "source": [
    "# BePro Get Events"
   ]
  },
  {
   "cell_type": "markdown",
   "id": "a632c3eb-4f4b-4d3f-b89a-b8579f37509c",
   "metadata": {},
   "source": [
    "Accesses the BePro API and extracts the matches used for the model. Then uses an event function to extract an event dataframe from the matches event data\n",
    "\n",
    "Note: Change API functions to the correct API calls as supplied by BePro and replace placeholders (e.g. 'api'). Fill in the placeholder ACCESS_TOKEN with given access token, and add this to authorisation."
   ]
  },
  {
   "cell_type": "code",
   "execution_count": 4,
   "id": "34e628ea-8327-4b74-b67a-9e900d97c252",
   "metadata": {},
   "outputs": [],
   "source": [
    "import json\n",
    "import sys\n",
    "sys.path.append(\"..\")\n",
    "import math\n",
    "import re\n",
    "from flatten_json import flatten\n",
    "import pandas as pd\n",
    "import UtilFunctions.util_functions as util_functions\n",
    "ACCESS_TOKEN = 'token'\n",
    "import requests\n",
    "headers = {\n",
    "    'AUTHORIZATION': ACCESS_TOKEN,\n",
    "}\n",
    "#Replace token with API token supplied by BePro"
   ]
  },
  {
   "cell_type": "markdown",
   "id": "56f20501-b924-433b-8361-43b85c5e175c",
   "metadata": {},
   "source": [
    "### Get Leagues, Season & Match ID\n",
    "Uses API function to get JSON on League and match data"
   ]
  },
  {
   "cell_type": "code",
   "execution_count": null,
   "id": "eebe485c-f84f-4c4f-8a20-1a4b0aa432a1",
   "metadata": {},
   "outputs": [],
   "source": [
    "def get_league():\n",
    "    response= requests.get('api', headers=headers)\n",
    "    league_json = response.json().get('result')[0]\n",
    "    league_id = league_json.get('id')\n",
    "    return league_id, league_json\n",
    "\n",
    "def get_season(league_id):\n",
    "    params = {\n",
    "        'league': league_id,\n",
    "    }\n",
    "    response = requests.get('api', params=params, headers=headers)\n",
    "    season = response.json().get('result')\n",
    "    season_id = season[0].get('id')\n",
    "    return season_id, season\n",
    "\n",
    "def get_matches(season_id):\n",
    "    params = {\n",
    "        'season': season_id,\n",
    "    }\n",
    "    response = requests.get('api', params=params, headers=headers)\n",
    "    matches = response.json().get('result')\n",
    "    matches_id = [m.get('id') for m in matches]\n",
    "    return matches_id, matches\n",
    "    \n",
    "def get_team_matches(team_id, season_id):\n",
    "    params = {\n",
    "        'season': season_id,\n",
    "        'team': team_id\n",
    "    }\n",
    "    response = requests.get('api', params=params, headers=headers)\n",
    "    team_games = response.json().get('result')\n",
    "    team_game_ids = [i.get('id') for i in team_games]\n",
    "    return team_game_ids, team_games\n",
    "\n",
    "def get_lineups(match_id):\n",
    "    response = requests.get('api'+str(match_id)+'/lineup', headers=headers)\n",
    "    lineup = response.json().get('result')\n",
    "    lineup_df = [flatten(l) for l in lineup]\n",
    "    lineup_df = pd.DataFrame.from_records(lineup_df)\n",
    "    return lineup_df"
   ]
  },
  {
   "cell_type": "markdown",
   "id": "aca0c1d8-0914-41ae-91bf-e24ada05d956",
   "metadata": {},
   "source": [
    "### Get IDs for league, season and match for 1 game"
   ]
  },
  {
   "cell_type": "code",
   "execution_count": null,
   "id": "f0099f57-6ae0-43f9-aa99-a9dfac67dd12",
   "metadata": {},
   "outputs": [],
   "source": [
    "suwon_team_id = 4220\n",
    "league_id, league_json = get_league()\n",
    "season_id, season_json = get_season(league_id)\n",
    "matches_id, matches_json = get_matches(season_id)\n",
    "suwon_matches_id, suwon_matches_json = get_team_matches(suwon_team_id, season_id)"
   ]
  },
  {
   "cell_type": "markdown",
   "id": "5bc46a50-1c33-4bca-8e95-f0f372cfe42b",
   "metadata": {},
   "source": [
    "### Get Events for a Match ID\n",
    "Gets all events for a match. Iterates over pages, where 100 events are contained within each API page."
   ]
  },
  {
   "cell_type": "code",
   "execution_count": null,
   "id": "bc5b66f5-40cf-4937-92cf-88fd9fbe5b23",
   "metadata": {},
   "outputs": [],
   "source": [
    "def get_events(match_id):\n",
    "    events_df=pd.DataFrame()\n",
    "    response = requests.get('api'+str(match_id)+'/event_data', headers=headers)\n",
    "    num_events = response.json().get('count')\n",
    "    for i in range(0, num_events,100):\n",
    "        params = {'offset': i}\n",
    "        response = requests.get('api'+str(match_id)+'/event_data', headers=headers, params=params)\n",
    "        event_json = response.json().get('result')\n",
    "        event_j = [flatten(e) for e in event_json]\n",
    "        event_df = pd.DataFrame.from_records(event_j)\n",
    "        events_df = pd.concat([events_df,event_df],ignore_index=True)\n",
    "    return events_df"
   ]
  },
  {
   "cell_type": "markdown",
   "id": "ebf310c2-87aa-46e4-b0f2-c64583481648",
   "metadata": {},
   "source": [
    "### Get Formation Changes"
   ]
  },
  {
   "cell_type": "code",
   "execution_count": null,
   "id": "eff4bdb4-b140-4451-b4ee-eaa3c711d780",
   "metadata": {},
   "outputs": [],
   "source": [
    "def get_formation_changes(match_id):\n",
    "    response = requests.get('api'+str(match_id)+'/formation', headers=headers)\n",
    "    formations = response.json().get('result')\n",
    "    formation_df = pd.DataFrame.from_records([flatten(f) for f in formations])\n",
    "    return formation_df"
   ]
  },
  {
   "cell_type": "code",
   "execution_count": null,
   "id": "557c2e7b-3da6-4d63-8070-f3eb7f075c8f",
   "metadata": {},
   "outputs": [],
   "source": [
    "def get_formation_from_events_df(i):\n",
    "    ev = pd.read_csv('data/Suwon_FC/events/game'+str(i)+'/events_df.csv')\n",
    "    match_id = ev['match_id'][0]\n",
    "    ev = pd.DataFrame(ev['event_time'])\n",
    "    lu = get_lineups(match_id)\n",
    "    team_ids = lu['team_id'].unique()\n",
    "    team1_players = lu[lu['team_id'] == team_ids[0]]['player_id'].unique()\n",
    "    team2_players = lu[lu['team_id'] == team_ids[1]]['player_id'].unique()\n",
    "    gfc = get_formation_changes(match_id)\n",
    "    team1_gfc = gfc[gfc['team_id'] == team_ids[0]].reset_index(drop=True)\n",
    "    team2_gfc = gfc[gfc['team_id'] == team_ids[1]].reset_index(drop=True)\n",
    "    \n",
    "    for t in team1_players:\n",
    "        ev[t] = 'NA'\n",
    "        \n",
    "    for t in team2_players:\n",
    "        ev[t] = 'NA'\n",
    "    \n",
    "    for i,row in team1_gfc.iterrows():\n",
    "        changed_time = row['changed_time']\n",
    "        try:\n",
    "            second_changed_time = team1_gfc.loc[i+1]['changed_time']\n",
    "        except:\n",
    "            second_changed_time = 1000000000\n",
    "        for p in range(0,11):\n",
    "            p_id = row['formation_'+str(p)+'_player_id']\n",
    "            if not (math.isnan(p_id)):\n",
    "                p_pos = util_functions.coords_to_pos(row['formation_'+str(p)+'_position_x'],row['formation_'+str(p)+'_position_y'])\n",
    "                ev.loc[(ev['event_time'] > changed_time) & (ev['event_time'] <= second_changed_time), p_id] = p_pos\n",
    "    for i,row in team2_gfc.iterrows():\n",
    "        changed_time = row['changed_time']\n",
    "        try:\n",
    "            second_changed_time = team2_gfc.loc[i+1]['changed_time']\n",
    "        except:\n",
    "            second_changed_time = 1000000000\n",
    "        for p in range(0,11):\n",
    "            p_id = row['formation_'+str(p)+'_player_id']\n",
    "            if not (math.isnan(p_id)):\n",
    "                p_pos = util_functions.coords_to_pos(row['formation_'+str(p)+'_position_x'],row['formation_'+str(p)+'_position_y'])\n",
    "                ev.loc[(ev['event_time'] > changed_time) & (ev['event_time'] <= second_changed_time), p_id] = p_pos\n",
    "            \n",
    "            \n",
    "    return ev"
   ]
  },
  {
   "cell_type": "markdown",
   "id": "4b259f86-576e-4f8a-907c-1a05beee3ae3",
   "metadata": {},
   "source": [
    "# Process for storing the input data"
   ]
  },
  {
   "cell_type": "code",
   "execution_count": 1,
   "id": "98650bba-49d9-4cd6-844b-15a7ff5a06a1",
   "metadata": {},
   "outputs": [],
   "source": [
    "#Games to remove - event data games where tracking data is not readily available\n",
    "#If using your own tracking dataset without missing files, set this as an empty list\n",
    "missing_games_indexes = [2,15,17,25]\n",
    "num_games = 34"
   ]
  },
  {
   "cell_type": "markdown",
   "id": "4be37005-3bca-4048-b22d-97f731082f4c",
   "metadata": {},
   "source": [
    "## Part 1: Get team lineups"
   ]
  },
  {
   "cell_type": "code",
   "execution_count": null,
   "id": "567db14c-d86b-4edb-ba1a-dfba3b5ba8bc",
   "metadata": {},
   "outputs": [],
   "source": [
    "game_lineups = []\n",
    "for s in suwon_matches_id:\n",
    "    lineup = [flatten(l) for l in get_lineups(s)]\n",
    "    lineup_df = pd.DataFrame.from_records(lineup)\n",
    "    game_lineups.append(lineup_df)"
   ]
  },
  {
   "cell_type": "code",
   "execution_count": null,
   "id": "6b034e6e-f05c-4645-9154-11978b5f269b",
   "metadata": {},
   "outputs": [],
   "source": [
    "#Games to remove - event data games where tracking data is not readily available\n",
    "for i in missing_games_indexes:\n",
    "    game_lineups.pop(i)\n",
    "game_lineups.reverse()"
   ]
  },
  {
   "cell_type": "markdown",
   "id": "1fea17ac-ddbb-4570-acbc-9fc803c83cb4",
   "metadata": {},
   "source": [
    "Store home and away players and team formation"
   ]
  },
  {
   "cell_type": "code",
   "execution_count": null,
   "id": "7d221145-e4a5-4b00-a29f-2feba955f9be",
   "metadata": {},
   "outputs": [],
   "source": [
    "for i in range(1, num_games+1):\n",
    "    home_df = pd.read_csv('data/Suwon_FC/tracking/game'+str(i)+'/home_players.csv')\n",
    "    home_df = home_df.merge(game_lineups[i-1][['player_id','is_starting_lineup','position_x','position_y','position_name']],on=['player_id'],how='left')\n",
    "    away_df = pd.read_csv('data/Suwon_FC/tracking/game'+str(i)+'/away_players.csv')\n",
    "    away_df = away_df.merge(game_lineups[i-1][['player_id','is_starting_lineup','position_x','position_y','position_name']],on=['player_id'],how='left')\n",
    "    home_df.to_csv('data/Suwon_FC/tracking/game'+str(i)+'/home_players.csv', index=False)\n",
    "    away_df.to_csv('data/Suwon_FC/tracking/game'+str(i)+'/away_players.csv',index=False)"
   ]
  },
  {
   "cell_type": "code",
   "execution_count": null,
   "id": "2890440b-e5f9-4db6-b160-6b972cacf18c",
   "metadata": {},
   "outputs": [],
   "source": [
    "for i in range(1,num_games+1):\n",
    "    fdf = get_formation_from_events_df(i)\n",
    "    fdf.to_csv('data/Suwon_FC/formations/game'+str(i)+'/formation.csv',index=False)"
   ]
  },
  {
   "cell_type": "markdown",
   "id": "6c6afa1e-755b-4578-8167-ab33dd7ad6d8",
   "metadata": {},
   "source": [
    "## Part 2: Loop through matches list and get events dataframes for Suwon FC"
   ]
  },
  {
   "cell_type": "code",
   "execution_count": null,
   "id": "ea61f8dd-f8b8-40bb-8417-3ee24afc1c3b",
   "metadata": {},
   "outputs": [],
   "source": [
    "def get_suwon_match_events(suwon_id, match_ids):\n",
    "    count=1\n",
    "    for m in match_ids:\n",
    "        events_df = get_events(m)\n",
    "        events_df = util_functions.convert_bepro_to_EPTS(events_df)\n",
    "        events_df.to_csv('data/Suwon_FC/events/game'+str(count)+'/events_df.csv', index=False)\n",
    "        count+=1\n",
    "        \n",
    "get_suwon_match_events(suwon_team_id, suwon_matches_id)"
   ]
  },
  {
   "cell_type": "markdown",
   "id": "7a0b97bd-5ae4-4a87-800c-2c6f61cffeba",
   "metadata": {},
   "source": [
    "## Part 3: Get matches dataframe for Suwon in the right format\n",
    "Need to drop 4 rows and reverse order to match tracking and chronological order"
   ]
  },
  {
   "cell_type": "code",
   "execution_count": null,
   "id": "f6806e33-2582-4ce3-8ef9-71a68881dc3a",
   "metadata": {},
   "outputs": [],
   "source": [
    "game_df = []\n",
    "for i in suwon_matches_json:\n",
    "    game_details = [i.get('id'),i.get('start_time'),i.get('home_team').get('id'), i.get('away_team').get('id'), i.get('detail_match_result').get('home_team_score'), i.get('detail_match_result').get('away_team_score')]\n",
    "    game_df.append(game_details)\n",
    "    \n",
    "game_df = pd.DataFrame(game_df, columns=['id','date','home_id','away_id','home_score','away_score'])\n",
    "game_df = game_df.drop(missing_indexes).reset_index(drop=True)\n",
    "game_df = game_df.reindex(index=game_df.index[::-1]).reset_index(drop=True)\n",
    "game_df.to_csv('Suwon_games.csv',index=False)"
   ]
  },
  {
   "cell_type": "markdown",
   "id": "5374bbce-f685-4beb-b0e9-545cf71dfde5",
   "metadata": {},
   "source": [
    "## Part 4: Change Data so that coordinates are flipped properly i.e. always in correct direction"
   ]
  },
  {
   "cell_type": "code",
   "execution_count": null,
   "id": "45e27fac-f63b-4939-b513-d30ac322e16c",
   "metadata": {},
   "outputs": [],
   "source": [
    "#for i in range(1,num_games+1):\n",
    "#    events_df = pd.read_csv('data/Suwon_FC/events/game'+str(i)+'/events_df.csv')\n",
    "#    events_df['y'] = 68- events_df['y']\n",
    "#    events_df.to_csv('data/Suwon_FC/events/game'+str(i)+'/events_df.csv',index=False)"
   ]
  }
 ],
 "metadata": {
  "kernelspec": {
   "display_name": "Python 3",
   "language": "python",
   "name": "python3"
  },
  "language_info": {
   "codemirror_mode": {
    "name": "ipython",
    "version": 3
   },
   "file_extension": ".py",
   "mimetype": "text/x-python",
   "name": "python",
   "nbconvert_exporter": "python",
   "pygments_lexer": "ipython3",
   "version": "3.8.8"
  }
 },
 "nbformat": 4,
 "nbformat_minor": 5
}
